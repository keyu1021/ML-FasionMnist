{
  "cells": [
    {
      "cell_type": "markdown",
      "metadata": {
        "id": "PJkWVECOuvhJ"
      },
      "source": [
        "# Imports"
      ]
    },
    {
      "cell_type": "code",
      "execution_count": null,
      "metadata": {
        "id": "zZZR425GnZhY"
      },
      "outputs": [],
      "source": [
        "from sklearn.datasets import fetch_openml\n",
        "from keras.utils.np_utils import to_categorical\n",
        "import numpy as np\n",
        "from sklearn.model_selection import train_test_split\n",
        "import time\n",
        "import tensorflow as tf\n",
        "import matplotlib.pyplot as plt\n",
        "from IPython.display import clear_output\n",
        "import sklearn.metrics\n",
        "# TensorFlow and tf.keras\n",
        "import tensorflow as tf\n",
        "import random\n",
        "from tqdm import tqdm\n",
        "np.seterr(divide='ignore', invalid='ignore')\n",
        "\n",
        "import keras\n",
        "import tensorflow\n",
        "from tensorflow.keras.preprocessing.image import ImageDataGenerator\n",
        "from keras.layers import BatchNormalization\n",
        "from tensorflow.keras.models import Sequential\n",
        "from tensorflow.keras.utils import to_categorical\n",
        "from tensorflow.keras.models import model_from_json\n",
        "from tensorflow.keras.layers import Dense\n",
        "from tensorflow.keras.layers import Conv2D\n",
        "from tensorflow.keras.layers import MaxPool2D, Dropout, MaxPooling2D, Activation, ZeroPadding2D\n",
        "from tensorflow.keras.layers import Flatten\n",
        "from tensorflow.keras.callbacks import EarlyStopping, ModelCheckpoint"
      ]
    },
    {
      "cell_type": "markdown",
      "metadata": {
        "id": "cr0wNH0hW4Ga"
      },
      "source": [
        "# data loading and processing"
      ]
    },
    {
      "cell_type": "markdown",
      "metadata": {
        "id": "NeHLLtYs-0FS"
      },
      "source": [
        "###Downloading the data"
      ]
    },
    {
      "cell_type": "code",
      "execution_count": null,
      "metadata": {
        "id": "teWyBSCS-uWp"
      },
      "outputs": [],
      "source": [
        "fashion_mnist = tf.keras.datasets.fashion_mnist\n",
        "\n",
        "(train_images, train_labels), (test_images, test_labels) = fashion_mnist.load_data()"
      ]
    },
    {
      "cell_type": "code",
      "execution_count": null,
      "metadata": {
        "id": "SiKiLX1k7IO4"
      },
      "outputs": [],
      "source": [
        "class_names = ['T-shirt/top', 'Trouser', 'Pullover', 'Dress', 'Coat',\n",
        "               'Sandal', 'Shirt', 'Sneaker', 'Bag', 'Ankle boot']"
      ]
    },
    {
      "cell_type": "code",
      "execution_count": null,
      "metadata": {
        "id": "FW4m0xZV7Gfu",
        "colab": {
          "base_uri": "https://localhost:8080/",
          "height": 54
        },
        "outputId": "ffcbaf0f-25e6-4f19-c15d-aad9e654828a"
      },
      "outputs": [
        {
          "output_type": "display_data",
          "data": {
            "text/plain": [
              "<Figure size 504x252 with 2 Axes>"
            ],
            "image/png": "[encoded data removed]"
          },
          "metadata": {
            "needs_background": "light"
          }
        }
      ],
      "source": [
        "plt.figure()\n",
        "plt.imshow(train_images[0])\n",
        "plt.colorbar()\n",
        "plt.grid(False)\n",
        "plt.show()"
      ]
    },
    {
      "cell_type": "markdown",
      "metadata": {
        "id": "ph4B0uiE_KJT"
      },
      "source": [
        "###Preprocessing"
      ]
    },
    {
      "cell_type": "code",
      "execution_count": null,
      "metadata": {
        "id": "dbq1zpAF7THj",
        "colab": {
          "base_uri": "https://localhost:8080/"
        },
        "outputId": "88deafae-8f62-4420-8aa4-285e665b865d"
      },
      "outputs": [
        {
          "output_type": "stream",
          "name": "stdout",
          "text": [
            "(60000, 784)\n",
            "(10000, 784)\n"
          ]
        }
      ],
      "source": [
        "train_images.shape\n",
        "\n",
        "'''flatten vector'''\n",
        "train_images_fla = []\n",
        "test_images_fla = []\n",
        "for row in train_images:\n",
        "  train_images_fla.append(row.flatten())\n",
        "\n",
        "for row in test_images:\n",
        "  test_images_fla.append(row.flatten())\n",
        "\n",
        "train_images_fla = np.array(train_images_fla)\n",
        "test_images_fla = np.array(test_images_fla)\n",
        "\n",
        "\n",
        "Y_train = np.array(train_labels)\n",
        "Y_test = np.array(test_labels)\n",
        "\n",
        "print(train_images_fla.shape)\n",
        "print(test_images_fla.shape)"
      ]
    },
    {
      "cell_type": "code",
      "execution_count": null,
      "metadata": {
        "id": "je0lEto57L94"
      },
      "outputs": [],
      "source": [
        "X_train = np.array((train_images_fla - np.mean(train_images_fla, axis=0)) / 255.0)\n",
        "X_test = np.array((test_images_fla - np.mean(test_images_fla, axis=0)) / 255.0)"
      ]
    },
    {
      "cell_type": "code",
      "execution_count": null,
      "metadata": {
        "id": "cs9xCz-d7PVV",
        "colab": {
          "base_uri": "https://localhost:8080/"
        },
        "outputId": "f1f36e0b-38d1-47aa-c2fd-b5bc337dcae9"
      },
      "outputs": [
        {
          "output_type": "display_data",
          "data": {
            "text/plain": [
              "<Figure size 720x720 with 25 Axes>"
            ],
            "image/png": "[encoded data removed]"
          },
          "metadata": {}
        }
      ],
      "source": [
        "plt.figure(figsize=(10,10))\n",
        "for i in range(25):\n",
        "    plt.subplot(5,5,i+1)\n",
        "    plt.xticks([])\n",
        "    plt.yticks([])\n",
        "    plt.grid(False)\n",
        "    plt.imshow(train_images[i], cmap=plt.cm.binary)\n",
        "    plt.xlabel(class_names[train_labels[i]])\n",
        "plt.show()"
      ]
    },
    {
      "cell_type": "markdown",
      "metadata": {
        "id": "VC6ECr1zXZZO"
      },
      "source": [
        "# Neural Network Implementation"
      ]
    },
    {
      "cell_type": "markdown",
      "metadata": {
        "id": "CTMWaopkFJRx"
      },
      "source": [
        "Implement the cost function as a class that holds the functions needed:"
      ]
    },
    {
      "cell_type": "code",
      "execution_count": null,
      "metadata": {
        "id": "wGlEqtXb0yml"
      },
      "outputs": [],
      "source": [
        "class Cross_Entropy:\n",
        "    def __init__(self, activation_fn):\n",
        "      \n",
        "        self.activation_fn = activation_fn\n",
        "\n",
        "    def activation(self, z):\n",
        "      return self.activation_fn.activation(z)\n",
        "\n",
        "    def loss(y_true, y_pred):\n",
        "   \n",
        "        epsilon=1e-12\n",
        "        y_pred = np.clip(y_pred, epsilon, 1. - epsilon)\n",
        "        N = y_pred.shape[0]\n",
        "        loss = -(y_true * np.log(y_pred+1e-9)).sum(axis=-1).mean()\n",
        "\n",
        "        return loss\n",
        "\n",
        "    @staticmethod\n",
        "    def prime(Y, AL):  \n",
        "        return AL - Y\n",
        "\n",
        "    def delta(self, y_true, y_pred):\n",
        "        return self.prime(y_true, y_pred) * self.activation_fn.prime(y_pred)"
      ]
    },
    {
      "cell_type": "markdown",
      "metadata": {
        "id": "hiejQ23sFQ1F"
      },
      "source": [
        "### ACTIVATION Functions:"
      ]
    },
    {
      "cell_type": "markdown",
      "metadata": {
        "id": "Wq-tbhPQFVni"
      },
      "source": [
        "Implement activation functions as functions"
      ]
    },
    {
      "cell_type": "code",
      "execution_count": null,
      "metadata": {
        "id": "HqoKtANnpLJp"
      },
      "outputs": [],
      "source": [
        "import numpy as np\n",
        "class Relu:\n",
        "    @staticmethod\n",
        "    def activation(z):\n",
        "      return np.maximum(0,z)\n",
        "    def prime(z):\n",
        "        z[z<=0] = 0\n",
        "        z[z>0] = 1\n",
        "        return z\n",
        "\n",
        "class Sigmoid:\n",
        "    @staticmethod\n",
        "    def activation(z):\n",
        "        return 1 / (1 + np.exp(-z))\n",
        "    def prime(z):\n",
        "        return Sigmoid.activation(z) * (1 - Sigmoid.activation(z))\n",
        "\n",
        "class tanh:\n",
        "    @staticmethod\n",
        "    def activation(z):\n",
        "\t    return (np.exp(z) - np.exp(-z)) / (np.exp(z) + np.exp(-z))\n",
        "    def prime(z):\n",
        "      return 1 - np.power(tanh.activation(z), 2)\n",
        "\n",
        "class softmax:\n",
        "    @staticmethod\n",
        "    def activation(x):\n",
        "      e = np.exp(x-np.max(x))\n",
        "      # print(\"e\",e)\n",
        "      s = np.sum(e, axis=1, keepdims=True)\n",
        "      return e/s\n",
        "    @staticmethod\n",
        "    def prime(z):\n",
        "        return softmax.activation(z)*softmax.activation(1-z)\n",
        "\n",
        "class leakyRelu:\n",
        "    @staticmethod\n",
        "    def activation(z):\n",
        "      alpha = 0.3\n",
        "      return np.maximum(0,z) + alpha * np.min(z,0)\n",
        "    def prime(z):\n",
        "        z[z<=0] = 0\n",
        "        z[z>0] = 1\n",
        "        return z"
      ]
    },
    {
      "cell_type": "markdown",
      "metadata": {
        "id": "hSxuelxXFbED"
      },
      "source": [
        "### MLP"
      ]
    },
    {
      "cell_type": "code",
      "execution_count": null,
      "metadata": {
        "id": "yqiaOhGyrHCm"
      },
      "outputs": [],
      "source": [
        "class MLP:\n",
        "    # Constructor:\n",
        "    def __init__(self, dimensions, activations):\n",
        "        \"\"\"\n",
        "        dimensions as list:  Dimensions of the neural net. (input, hidden layer(s), output)\n",
        "        activations as list :  Activations functions.\n",
        "\n",
        "        \"\"\"\n",
        "        self.n = len(dimensions)\n",
        "        self.loss = None\n",
        "        self.learning_rate = None\n",
        "        self.w = {}\n",
        "        self.b = {}\n",
        "        self.lambd = None\n",
        "        self.activations = {}\n",
        "        # initialize the neural net\n",
        "        for i in range(len(dimensions) - 1):\n",
        "            self.w[i + 1] = np.random.randn(dimensions[i], dimensions[i + 1]) / np.sqrt(dimensions[i])\n",
        "            self.b[i + 1] = np.random.randn(dimensions[i + 1])\n",
        "            self.activations[i + 2] = activations[i]\n",
        "\n",
        "    def forward(self, x):\n",
        "    \n",
        "\n",
        "        z = {}\n",
        "        a = {1: x}  \n",
        "        for i in range(1, self.n):\n",
        "            \n",
        "            z[i + 1] = np.dot(a[i], self.w[i]) + self.b[i]\n",
        "            a[i + 1] = self.activations[i + 1].activation(z[i + 1])\n",
        "\n",
        "        return z, a  \n",
        "\n",
        "    # function that updates weights after gradient descent and uses l2 reg\n",
        "    def _update_w_b(self, index, dw, delta):\n",
        "        \"\"\"\n",
        "        Method to update weights and biases.\n",
        "        :param index: (int) Number of the layer\n",
        "        :param dw: (array) Partial derivatives\n",
        "        :param delta: (array) Delta error.\n",
        "        \"\"\"\n",
        "        dw += (self.lambd) * self.w[index] \n",
        "        self.w[index] -= self.learning_rate * dw\n",
        "        self.b[index] -= self.learning_rate * np.mean(delta, 0)\n",
        "\n",
        "    def _back_prop(self, z, a, y_true):\n",
        "\n",
        "        # Determine partial derivative and delta for the output layer.\n",
        "        delta = self.loss.delta(y_true, a[self.n])\n",
        "        dw = np.dot(a[self.n - 1].T, delta)\n",
        "\n",
        "        update_params = {\n",
        "            self.n - 1: (dw, delta)\n",
        "        }\n",
        "\n",
        "        for i in reversed(range(2, self.n)):\n",
        "            delta = np.dot(delta, self.w[i].T) * self.activations[i].prime(z[i])\n",
        "            dw = np.dot(a[i - 1].T, delta)\n",
        "            update_params[i - 1] = (dw, delta)\n",
        "\t\n",
        "        # Update the weights and biases\n",
        "        for k, v in update_params.items():\n",
        "            self._update_w_b(k, v[0], v[1])\n",
        "    \n",
        "    # Set plot to True to plot the test and train accuracy against number of epoches\n",
        "    def fit(self, X_train, y_train, X_test, y_test, epochs, batch_size, loss, lambd, learning_rate=1e-3, plot= False):\n",
        "        y_train = np.eye(10)[y_train]\n",
        "        y_test = np.eye(10)[y_test]\n",
        "      \n",
        "        # Initiate the loss object with the final activation function\n",
        "        self.loss = loss(self.activations[self.n])\n",
        "        self.learning_rate = learning_rate\n",
        "        self.lambd = lambd\n",
        "\n",
        "        train_acc = []\n",
        "        test_acc = []\n",
        "        losses=[]\n",
        "        xaxis = []\n",
        "\n",
        "        for i in tqdm(range(epochs)):\n",
        "\n",
        "            # one minibatch at one epoch\n",
        "            ind = np.random.choice(X_train.shape[0], batch_size)\n",
        "            # print(i)\n",
        "            X_batch = X_train[ind,:]\n",
        "            Y_batch = y_train[ind]\n",
        " \n",
        "            z, a = self.forward(X_batch)\n",
        "            self._back_prop(z, a, Y_batch)\n",
        "            y_pred = a[self.n]\n",
        "            losses.append(loss.loss(Y_batch, y_pred)) \n",
        "            \n",
        "            '''compute acc for every epoch'''\n",
        "            # train_cur_acc = np.mean(self.predict(X_train) == np.argmax(y_train,axis = 1))\n",
        "            # test_cur_acc = np.mean(self.predict(X_test) == np.argmax(y_test,axis = 1))\n",
        "            # #print(\"train accuracy\", train_cur_acc)\n",
        "            # train_acc.append(train_cur_acc)\n",
        "            # test_acc.append(np.mean(self.predict(X_test) == np.argmax(y_test,axis = 1)))\n",
        "\n",
        "\n",
        "            '''plot training and testing acc'''\n",
        "            # if (i+1) % 100 == 0:\n",
        "            #     xaxis.append(i+1)\n",
        "            #     train_cur_acc = np.mean(self.predict(X_train) == np.argmax(y_train,axis = 1))\n",
        "            #     train_acc.append(train_cur_acc)\n",
        "            #     test_cur_acc = np.mean(self.predict(X_test) == np.argmax(y_test,axis = 1))\n",
        "            #     test_acc.append(test_cur_acc)  \n",
        "                    \n",
        "            #     print(\"Training accuracy:\", train_acc[-1])\n",
        "            #     print(\"Test accuracy:\", test_acc[-1])\n",
        "            #     plt.plot(xaxis, train_acc)\n",
        "            #     plt.plot(xaxis, test_acc)\n",
        "            #     plt.title(\"training and test accuracy for every 100 epochs\")\n",
        "            #     plt.legend([\"training\", \"test\"],loc = 'best')\n",
        "            #     plt.ylabel('Accuracy')\n",
        "            #     plt.xlabel('epochs')\n",
        "            #     plt.grid()\n",
        "            #     plt.show()\n",
        "\n",
        "\n",
        "        '''final acc'''\n",
        "        train_final_acc = np.mean(self.predict(X_train) == np.argmax(y_train,axis = 1))\n",
        "        test_final_acc = np.mean(self.predict(X_test) == np.argmax(y_test,axis = 1))\n",
        "        train_acc = train_final_acc\n",
        "        test_acc = test_final_acc\n",
        "        \n",
        "        print(\"train acc\", train_final_acc)\n",
        "        print(\"test acc\", test_final_acc)\n",
        "        \n",
        "        '''plot the loss'''\n",
        "        # plt.figure()    \n",
        "        # plt.plot(losses)\n",
        "        # plt.ylabel('Loss Function')\n",
        "        # plt.xlabel('epoches')\n",
        "        # plt.grid()\n",
        "        # plt.show()\n",
        "\n",
        "        return train_acc, test_acc\n",
        "\n",
        "    def predict(self, x):\n",
        "        \n",
        "        z, a = self.forward(x)\n",
        "        # return a[self.n_layers]\n",
        "        pred = np.argmax(a[self.n], axis=1)\n",
        "        return pred\n",
        "\n",
        "    def ce(self, X, y):\n",
        "        return -np.sum(y * np.log(self.predict(X)))\n",
        "    \n",
        "    def grad(self, X, y):\n",
        "        return np.matmul(X.transpose(), self.predict(X) - y)\n",
        "\n",
        "\n",
        "    def check(self, X, Y):\n",
        "        W = self.w[3]\n",
        "        D, C = 128, 10\n",
        "        diff = np.zeros((128, 10))\n",
        "        for i in range(D):\n",
        "            for j in range(C):\n",
        "                epsilon = np.zeros((D, C))\n",
        "                epsilon[i, j] = np.random.rand() * 1e-4\n",
        "                W_hat = W\n",
        "                W = W_hat + epsilon\n",
        "                J1 = self.ce(X, Y)\n",
        "                \n",
        "                W = W_hat - epsilon\n",
        "                J2 = self.ce(X, Y)\n",
        "\n",
        "                numeric_grad = (J1 - J2) / (2 * epsilon[i, j])\n",
        "                derived_grad = self.grad(X, Y)[j]\n",
        "\n",
        "                diff[i, j] = np.square(derived_grad - numeric_grad).sum()\n",
        "                diff[i, j] = diff[i, j] / np.square(derived_grad + numeric_grad).sum()\n",
        "        return diff.sum()\n",
        "\n",
        "        \n",
        "    def evaluate_acc (True_label,Predicted_label):\n",
        "        return np.sum(True_label == Predicted_label)/Predicted_label.shape[0]"
      ]
    },
    {
      "cell_type": "markdown",
      "metadata": {
        "id": "I3Og-PdwHHRu"
      },
      "source": [
        "#Task 3: Run the experiments and report"
      ]
    },
    {
      "cell_type": "markdown",
      "metadata": {
        "id": "WAK-Zv3lIdZ9"
      },
      "source": [
        "## Task 3.1 Different hidden layers\n"
      ]
    },
    {
      "cell_type": "markdown",
      "metadata": {
        "id": "4I-bdw90lwvF"
      },
      "source": [
        "MLP with 2 hidden layers 128 units ReLU"
      ]
    },
    {
      "cell_type": "code",
      "source": [
        "mlp_2 = MLP((784, 128, 128, 10), (Relu, Relu, softmax))\n",
        "train_log, test_log = mlp_2.fit(X_train, Y_train, X_test, Y_test, epochs=1500, batch_size=256, loss=Cross_Entropy,lambd = 0, learning_rate=0.1, plot=True)\n"
      ],
      "metadata": {
        "colab": {
          "base_uri": "https://localhost:8080/"
        },
        "id": "r-SrUfwhvNne",
        "outputId": "23ca0b5a-f8c8-47bf-da27-f6826aa0eca7"
      },
      "execution_count": null,
      "outputs": [
        {
          "output_type": "stream",
          "name": "stderr",
          "text": [
            "100%|██████████| 1500/1500 [00:19<00:00, 77.72it/s]\n"
          ]
        },
        {
          "output_type": "stream",
          "name": "stdout",
          "text": [
            "train acc 0.88455\n",
            "test acc 0.8627\n"
          ]
        }
      ]
    },
    {
      "cell_type": "markdown",
      "metadata": {
        "id": "Ofta87W8YI9U"
      },
      "source": [
        "Hyperparameter tuning"
      ]
    },
    {
      "cell_type": "code",
      "execution_count": null,
      "metadata": {
        "id": "W1ojvDfMs-7S",
        "colab": {
          "base_uri": "https://localhost:8080/",
          "height": 741
        },
        "outputId": "1ca04501-a215-4b19-8346-b3aaf3e1e5b5"
      },
      "outputs": [
        {
          "output_type": "stream",
          "name": "stderr",
          "text": [
            "100%|██████████| 1500/1500 [00:18<00:00, 81.92it/s]\n"
          ]
        },
        {
          "output_type": "stream",
          "name": "stdout",
          "text": [
            "train acc 0.15188333333333334\n",
            "test acc 0.1564\n"
          ]
        },
        {
          "output_type": "stream",
          "name": "stderr",
          "text": [
            "100%|██████████| 1500/1500 [00:17<00:00, 83.54it/s]\n"
          ]
        },
        {
          "output_type": "stream",
          "name": "stdout",
          "text": [
            "train acc 0.4172666666666667\n",
            "test acc 0.4175\n"
          ]
        },
        {
          "output_type": "stream",
          "name": "stderr",
          "text": [
            "100%|██████████| 1500/1500 [00:18<00:00, 82.88it/s]\n"
          ]
        },
        {
          "output_type": "stream",
          "name": "stdout",
          "text": [
            "train acc 0.7184\n",
            "test acc 0.7138\n"
          ]
        },
        {
          "output_type": "stream",
          "name": "stderr",
          "text": [
            "100%|██████████| 1500/1500 [00:19<00:00, 78.56it/s]\n"
          ]
        },
        {
          "output_type": "stream",
          "name": "stdout",
          "text": [
            "train acc 0.8075666666666667\n",
            "test acc 0.7961\n"
          ]
        },
        {
          "output_type": "stream",
          "name": "stderr",
          "text": [
            "100%|██████████| 1500/1500 [00:19<00:00, 75.51it/s]\n"
          ]
        },
        {
          "output_type": "stream",
          "name": "stdout",
          "text": [
            "train acc 0.83795\n",
            "test acc 0.8228\n"
          ]
        },
        {
          "output_type": "stream",
          "name": "stderr",
          "text": [
            "100%|██████████| 1500/1500 [00:18<00:00, 81.48it/s]\n"
          ]
        },
        {
          "output_type": "stream",
          "name": "stdout",
          "text": [
            "train acc 0.8735166666666667\n",
            "test acc 0.8585\n"
          ]
        },
        {
          "output_type": "stream",
          "name": "stderr",
          "text": [
            "100%|██████████| 1500/1500 [00:18<00:00, 82.35it/s]\n"
          ]
        },
        {
          "output_type": "stream",
          "name": "stdout",
          "text": [
            "train acc 0.8723333333333333\n",
            "test acc 0.8545\n"
          ]
        },
        {
          "output_type": "stream",
          "name": "stderr",
          "text": [
            "100%|██████████| 1500/1500 [00:17<00:00, 86.31it/s]\n"
          ]
        },
        {
          "output_type": "stream",
          "name": "stdout",
          "text": [
            "train acc 0.6957666666666666\n",
            "test acc 0.6796\n"
          ]
        },
        {
          "output_type": "display_data",
          "data": {
            "text/plain": [
              "<Figure size 432x288 with 1 Axes>"
            ],
            "image/png": "[encoded data removed]"
          },
          "metadata": {
            "needs_background": "light"
          }
        },
        {
          "output_type": "stream",
          "name": "stdout",
          "text": [
            "[0.1564, 0.4175, 0.7138, 0.7961, 0.8228, 0.8585, 0.8545, 0.6796]\n"
          ]
        }
      ],
      "source": [
        "learing_rate = [1e-05, 0.0001, 0.001, 0.005, 0.01, 0.05, 0.1, 0.5]\n",
        "\n",
        "\n",
        "train_acc = []\n",
        "test_acc = []\n",
        "\n",
        "for l in learing_rate:\n",
        "    mlp_2 = MLP((784, 128, 128, 10), (Relu, Relu, softmax))\n",
        "    train_log, test_log = mlp_2.fit(X_train, Y_train, X_test, Y_test, epochs=1500, batch_size=256, loss=Cross_Entropy,lambd = 0, learning_rate=l, plot=True)\n",
        "    train_acc.append(train_log)\n",
        "    test_acc.append(test_log)\n",
        "\n",
        "plt.plot(learing_rate, train_acc)\n",
        "plt.plot(learing_rate, test_acc)\n",
        "plt.title(\"Tuning hyper-parameter for MLP with 2 layers\")\n",
        "plt.ylabel(\"accuracy\")\n",
        "plt.legend([\"training\", \"test\"], loc =\"best\")\n",
        "plt.xlabel(\"lr\")\n",
        "plt.show()\n",
        "print(test_acc)"
      ]
    },
    {
      "cell_type": "markdown",
      "metadata": {
        "id": "3LZUYkcXRLcr"
      },
      "source": [
        "Monitoring training accuracy against the number of iterations shows that training accuracy starts to stay constant after epoche 60. So, we set epochs =60 and then tune learning rate.\n"
      ]
    },
    {
      "cell_type": "markdown",
      "metadata": {
        "id": "_vEkZdVRT1AT"
      },
      "source": [
        "1 hidden layer 128 units ReLU"
      ]
    },
    {
      "cell_type": "code",
      "execution_count": null,
      "metadata": {
        "id": "iRWEB7sFjyAx",
        "colab": {
          "base_uri": "https://localhost:8080/"
        },
        "outputId": "b3343920-e3c3-4be5-bab1-efeae5669ab4"
      },
      "outputs": [
        {
          "output_type": "stream",
          "name": "stderr",
          "text": [
            "100%|██████████| 1500/1500 [00:14<00:00, 101.16it/s]\n"
          ]
        },
        {
          "output_type": "stream",
          "name": "stdout",
          "text": [
            "train acc 0.7289333333333333\n",
            "test acc 0.7239\n"
          ]
        }
      ],
      "source": [
        "mlp_1 = MLP((784, 128, 10), (Relu, softmax))\n",
        "train_log, val_log = mlp_1.fit(X_train, Y_train, X_test, Y_test, epochs=1500, batch_size=256, loss=Cross_Entropy,lambd = 0, learning_rate=0.0001, plot=True)\n"
      ]
    },
    {
      "cell_type": "markdown",
      "metadata": {
        "id": "YDAZca6QRVjo"
      },
      "source": [
        " MLP with no hidden layers"
      ]
    },
    {
      "cell_type": "code",
      "execution_count": null,
      "metadata": {
        "id": "tLKYdwc_B5We",
        "colab": {
          "base_uri": "https://localhost:8080/"
        },
        "outputId": "61c43daa-fdb0-41a8-bc0f-3362bf9b3abb"
      },
      "outputs": [
        {
          "output_type": "stream",
          "name": "stderr",
          "text": [
            "100%|██████████| 1500/1500 [00:07<00:00, 196.80it/s]\n"
          ]
        },
        {
          "output_type": "stream",
          "name": "stdout",
          "text": [
            "train acc 0.7175666666666667\n",
            "test acc 0.7109\n"
          ]
        }
      ],
      "source": [
        "mlp_0 = MLP((784, 10), (softmax,))\n",
        "train_log, test_log = mlp_0.fit(X_train, Y_train, X_test, Y_test, epochs=1500, batch_size=256, loss=Cross_Entropy,lambd = 0, learning_rate=0.0001, plot=True)\n"
      ]
    },
    {
      "cell_type": "markdown",
      "metadata": {
        "id": "m2D_qgSRqz1J"
      },
      "source": [
        "## Task 3.2 Different Activation functions "
      ]
    },
    {
      "cell_type": "markdown",
      "metadata": {
        "id": "wBVyqggc9M8Q"
      },
      "source": [
        "### MLP with 2 hidden layers 128 units with Leaky-ReLU"
      ]
    },
    {
      "cell_type": "code",
      "execution_count": null,
      "metadata": {
        "id": "JxQq2ZZHrc89"
      },
      "outputs": [],
      "source": [
        "mlp_leakyRelu = MLP((784, 128, 128, 10), (leakyRelu, leakyRelu, softmax))\n",
        "train_log, test_log = mlp_leakyRelu.fit(X_train, Y_train, X_test, Y_test, epochs=1500, batch_size=256, loss=Cross_Entropy, lambd = 0, learning_rate=0.1, plot=True)\n"
      ]
    },
    {
      "cell_type": "markdown",
      "metadata": {
        "id": "z73UKS2L9qjW"
      },
      "source": [
        "### MLP with 2 hidden layers 128 units with tanh activations"
      ]
    },
    {
      "cell_type": "code",
      "execution_count": null,
      "metadata": {
        "id": "Fzsni8YjyNUS"
      },
      "outputs": [],
      "source": [
        "# #create a list of alpha values to tune on\n",
        "# learing_rate = np.array([1e-2, 1e-1, 5e-1])\n",
        "# best_score = 0\n",
        "# n=0\n",
        "# Acc=np.zeros(3)\n",
        "# # loop over the alphas\n",
        "# for i in learing_rate:\n",
        "#       mn = MLP((784, 128, 128, 10), [tanh,tanh,softmax])\n",
        "#       score = kfoldCV(x_train,y_train,5, mn,i,0, 60)[1]\n",
        "#       Acc[n]= score\n",
        "#       n+=1\n",
        "#       if score > best_score:\n",
        "#          best_score = score\n",
        "#          best_lr = i\n",
        "#       print(f'for learning_rate= {i}  => score = {score}, best score = {best_score}')\n",
        "# print(f'Best learning_rate: {best_lr}')\n",
        "# plt.plot(learing_rate, Acc)\n",
        "# plt.ylabel('Accuracy')\n",
        "# plt.xlabel('learning_rate')\n",
        "# plt.grid()\n",
        "# plt.show()"
      ]
    },
    {
      "cell_type": "code",
      "execution_count": null,
      "metadata": {
        "id": "QZ1jSKoX9pTI",
        "colab": {
          "base_uri": "https://localhost:8080/"
        },
        "outputId": "90581f87-041d-4816-d1d5-4112ed368ea9"
      },
      "outputs": [
        {
          "output_type": "stream",
          "name": "stderr",
          "text": [
            "100%|██████████| 1500/1500 [00:51<00:00, 29.23it/s]\n"
          ]
        },
        {
          "output_type": "stream",
          "name": "stdout",
          "text": [
            "train acc 0.3323833333333333\n",
            "test acc 0.3287\n"
          ]
        }
      ],
      "source": [
        "nn = MLP((784, 128, 128, 10), (tanh, tanh, softmax))\n",
        "train_log, test_log = nn.fit(X_train, Y_train, X_test, Y_test, epochs=1500, batch_size=256, loss=Cross_Entropy,lambd = 0, learning_rate=0.1, plot=True)\n",
        "# print(\"Accuracy on test data\", evaluate_acc(nn.predict(x_test),y_test))\n"
      ]
    },
    {
      "cell_type": "markdown",
      "metadata": {
        "id": "SWMqe3f397ZG"
      },
      "source": [
        "## Task 3.3 L2 regularization"
      ]
    },
    {
      "cell_type": "markdown",
      "metadata": {
        "id": "wLf4OnXdQeXW"
      },
      "source": [
        "Tuning Lambda"
      ]
    },
    {
      "cell_type": "code",
      "execution_count": null,
      "metadata": {
        "id": "i9rcTo3MNJgA"
      },
      "outputs": [],
      "source": [
        "regs = [0.5, 0.1, 0.05, 0.01, 0.005, 0.001, 0.0005, 0.0001]\n",
        "\n",
        "train_acc = []\n",
        "test_acc = []\n",
        "\n",
        "for l in regs:\n",
        "    nn = MLP((784, 128, 128, 10), (Relu, Relu, softmax))\n",
        "    train_log, test_log = nn.fit(X_train, Y_train, X_test, Y_test, epochs=1500, batch_size=256, loss=Cross_Entropy,lambd = l, learning_rate=0.1, plot=True)\n",
        "    train_acc.append(train_log)\n",
        "    test_acc.append(test_log)\n",
        "\n",
        "plt.plot(regs, train_acc)\n",
        "plt.plot(regs, test_acc)\n",
        "plt.title(\"Tuning hyper-parameter for regularization\")\n",
        "plt.ylabel(\"accuracy\")\n",
        "plt.legend([\"training\", \"test\"], loc =\"best\")\n",
        "plt.xlabel(\"lambda\")\n",
        "plt.show()\n",
        "print(test_acc)\n",
        "\n"
      ]
    },
    {
      "cell_type": "markdown",
      "metadata": {
        "id": "DPUrMECSTA76"
      },
      "source": [
        "## Task 3.4 Unnormalized images"
      ]
    },
    {
      "cell_type": "code",
      "execution_count": null,
      "metadata": {
        "id": "ODS_AWvBTDxq"
      },
      "outputs": [],
      "source": [
        "# n_features= x_train0.shape[1]*x_train0.shape[2]\n",
        "# x_train_unnorm = x_train0.reshape(-1, n_features)\n",
        "# x_test_unnorm = x_test0.reshape(-1, n_features)"
      ]
    },
    {
      "cell_type": "code",
      "execution_count": null,
      "metadata": {
        "id": "9VoBv8HzAg5x"
      },
      "outputs": [],
      "source": [
        "model = MLP((784, 128, 128, 10), (Relu, Relu, softmax))\n",
        "train_log, val_log = model.fit(train_images_fla, Y_train, test_images_fla, Y_test, epochs=1500, batch_size=256, loss=Cross_Entropy,lambd = 0, learning_rate=1e-6, plot=True)\n",
        "# print(\"Accuracy on test data\", evaluate_acc(nn.predict(x_test_unnorm),y_test))"
      ]
    },
    {
      "cell_type": "markdown",
      "metadata": {
        "id": "ymjVUYsiLKbR"
      },
      "source": [
        "## Task 3.5 ConvNet with 2 convolutional and 2 fully connected layers"
      ]
    },
    {
      "cell_type": "code",
      "execution_count": null,
      "metadata": {
        "id": "3UP2w8M1LWJf",
        "colab": {
          "base_uri": "https://localhost:8080/"
        },
        "outputId": "0be2205b-1d57-46b8-8fbd-12cc3b7ef1dd"
      },
      "outputs": [
        {
          "output_type": "stream",
          "name": "stdout",
          "text": [
            "(60000, 28, 28, 1)\n",
            "(10000, 28, 28, 1)\n",
            "(60000, 10)\n",
            "(10000, 10)\n"
          ]
        }
      ],
      "source": [
        "# Reshape the images.\n",
        "train_images = np.expand_dims(train_images, axis=3)\n",
        "test_images = np.expand_dims(test_images, axis=3)\n",
        "\n",
        "print(train_images.shape) # (60000, 28, 28, 1)\n",
        "print(test_images.shape)  # (10000, 28, 28, 1)\n",
        "\n",
        "train_labels = to_categorical(train_labels)\n",
        "test_labels = to_categorical(test_labels)\n",
        "print(train_labels.shape) # (60000, 10)\n",
        "print(test_labels.shape)  # (10000, 10)"
      ]
    },
    {
      "cell_type": "code",
      "source": [
        "num_filters = 4\n",
        "filter_size = 3\n",
        "pool_size   = 2\n",
        "num_classes = 10\n",
        "batch_size  = 64\n",
        "input_shape = (train_images.shape[1:]) # (28, 28, 1)\n",
        "strides     = 1\n",
        "padding     = 'valid' # valid: no padding, same: for zeros evenly right/left and up/down. \n",
        "                      # When padding=\"same\" and strides=1, the output has the same size as the input\n",
        "model = Sequential()\n",
        "model.add(Conv2D(filters = 4 * num_filters,\n",
        "                 kernel_size = filter_size,\n",
        "                 strides     = strides,\n",
        "                 input_shape = input_shape,\n",
        "                 padding     = padding,\n",
        "                 activation  = 'relu')) # Sequential model needs the input shape\n",
        "model.add(MaxPooling2D(pool_size=pool_size)) # Keras automatically infers the shapes of inputs of later layers\n",
        "\n",
        "model.add(Conv2D(filters = 8 * num_filters, kernel_size = (filter_size, filter_size)))\n",
        "model.add(MaxPooling2D(pool_size=(pool_size, pool_size)))\n",
        "#model.add(Dropout(0.25)) # randomly sets input units to 0 with a frequency of rate at each step during training time, to avoid overfitting\n",
        "model.add(Flatten()) # Flatten serves as a connection between the convolution and dense layers\n",
        "model.add(Dense(1600, activation='relu'))\n",
        "model.add(Dense(num_classes, activation='softmax')) # output layer\n",
        "\n",
        "# apply dropout and padding\n",
        "model_2 = Sequential([\n",
        "  Conv2D(filters = 4 * num_filters, kernel_size = filter_size, input_shape=(28, 28, 1), padding='same', activation='relu'), \n",
        "  MaxPooling2D(pool_size=pool_size), \n",
        "  Conv2D(8 * num_filters, kernel_size=(filter_size, filter_size), activation='relu'),  \n",
        "  MaxPooling2D(pool_size=(pool_size, pool_size)), \n",
        "  Dropout(0.25),                        \n",
        "  Flatten(),\n",
        "  Dense(2304, activation='relu'),\n",
        "  Dense(num_classes, activation='softmax'),\n",
        "])"
      ],
      "metadata": {
        "id": "8Hbpv8joGvio"
      },
      "execution_count": null,
      "outputs": []
    },
    {
      "cell_type": "code",
      "source": [
        "# Plot model \n",
        "keras.utils.plot_model(model_2, \"cnn_model.png\", show_shapes=True)"
      ],
      "metadata": {
        "id": "MMe_ZDuAUnQ0"
      },
      "execution_count": null,
      "outputs": []
    },
    {
      "cell_type": "code",
      "source": [
        "# Summary of the model \n",
        "model.summary()"
      ],
      "metadata": {
        "id": "-bOFvTwQKGUG",
        "colab": {
          "base_uri": "https://localhost:8080/"
        },
        "outputId": "39ee1e3e-dd9a-4bbd-c478-c1eaf16ae71c"
      },
      "execution_count": null,
      "outputs": [
        {
          "output_type": "stream",
          "name": "stdout",
          "text": [
            "Model: \"sequential_2\"\n",
            "_________________________________________________________________\n",
            " Layer (type)                Output Shape              Param #   \n",
            "=================================================================\n",
            " conv2d_4 (Conv2D)           (None, 26, 26, 16)        160       \n",
            "                                                                 \n",
            " max_pooling2d_4 (MaxPooling  (None, 13, 13, 16)       0         \n",
            " 2D)                                                             \n",
            "                                                                 \n",
            " conv2d_5 (Conv2D)           (None, 11, 11, 32)        4640      \n",
            "                                                                 \n",
            " max_pooling2d_5 (MaxPooling  (None, 5, 5, 32)         0         \n",
            " 2D)                                                             \n",
            "                                                                 \n",
            " flatten_2 (Flatten)         (None, 800)               0         \n",
            "                                                                 \n",
            " dense_4 (Dense)             (None, 1600)              1281600   \n",
            "                                                                 \n",
            " dense_5 (Dense)             (None, 10)                16010     \n",
            "                                                                 \n",
            "=================================================================\n",
            "Total params: 1,302,410\n",
            "Trainable params: 1,302,410\n",
            "Non-trainable params: 0\n",
            "_________________________________________________________________\n"
          ]
        }
      ]
    },
    {
      "cell_type": "code",
      "source": [
        "model_2.summary()"
      ],
      "metadata": {
        "id": "nhlRY2BxKIka"
      },
      "execution_count": null,
      "outputs": []
    },
    {
      "cell_type": "code",
      "source": [
        "# Compile the model\n",
        "model.compile(\n",
        "  'adam',                             # Optimizer: Adam for gradient descent-based: https://keras.io/api/optimizers/\n",
        "  loss='categorical_crossentropy',    # Loss function: Categorical for 10 classes: https://keras.io/api/losses/\n",
        "  metrics=['accuracy'],               # accuracy metric, can choose from keras metrics: https://keras.io/api/metrics/\n",
        ")"
      ],
      "metadata": {
        "id": "a5V3IRUeMNgv"
      },
      "execution_count": null,
      "outputs": []
    },
    {
      "cell_type": "code",
      "source": [
        "# Compile the model\n",
        "model_2.compile(\n",
        "  'adam',                             # Optimizer: Adam for gradient descent-based: https://keras.io/api/optimizers/\n",
        "  loss='categorical_crossentropy',    # Loss function: Categorical for 10 classes: https://keras.io/api/losses/\n",
        "  metrics=['accuracy'],               # accuracy metric, can choose from keras metrics: https://keras.io/api/metrics/\n",
        ")"
      ],
      "metadata": {
        "id": "ztumAo58YS70"
      },
      "execution_count": null,
      "outputs": []
    },
    {
      "cell_type": "code",
      "source": [
        "# Train the mdoel\n",
        "# https://keras.io/api/callbacks/\n",
        "\n",
        "epochs = 10\n",
        "\n",
        "# Saving the model during training to be used later\n",
        "checkpoint = ModelCheckpoint(\"cnn_best_model.hdf5\",  # saving the best model\n",
        "                            monitor='val_loss', verbose=1,\n",
        "                            save_weights_only = False, # if True, then only the model's weights will be saved (model.save_weights(filepath)), else the full model is saved (model.save(filepath)). \n",
        "                            save_best_only=True,       # only saves when the model is considered the \"best\" and the latest best model according to the quantity monitored will not be overwritten.\n",
        "                            mode='auto',               # the decision to overwrite the current save file is made based on either the maximization or the minimization of the monitored quantity. For val_acc, this should be max, for val_loss this should be min,\n",
        "                            save_freq = 'epoch')       # When using 'epoch', the callback saves the model after each epoch. When using integer, the callback saves the model at end of this many batches.\n"
      ],
      "metadata": {
        "id": "q1oMvK9FMdAV"
      },
      "execution_count": null,
      "outputs": []
    },
    {
      "cell_type": "markdown",
      "source": [
        "fitting model 1"
      ],
      "metadata": {
        "id": "wSN4jiGQYimN"
      }
    },
    {
      "cell_type": "code",
      "source": [
        "# Fitting the model\n",
        "history = model.fit(\n",
        "  train_images,\n",
        "  train_labels, \n",
        "  epochs=epochs,                # number of training epochs\n",
        "  batch_size=batch_size,\n",
        "  verbose = 1,\n",
        "  validation_data=(test_images, test_labels), # validation data\n",
        "  callbacks=[checkpoint]      # callback to save the model during trainings \n",
        ")"
      ],
      "metadata": {
        "id": "Y__AidiMNECY"
      },
      "execution_count": null,
      "outputs": []
    },
    {
      "cell_type": "markdown",
      "source": [
        "fitting Model 2 with zero padding and dropout"
      ],
      "metadata": {
        "id": "3yD-Fny8Ybu4"
      }
    },
    {
      "cell_type": "code",
      "source": [
        "# Fitting the model 2\n",
        "history = model_2.fit(\n",
        "  train_images,\n",
        "  train_labels, \n",
        "  epochs=epochs,                # number of training epochs\n",
        "  batch_size=batch_size,\n",
        "  verbose = 1,\n",
        "  validation_data=(test_images, test_labels), # validation data\n",
        "  callbacks=[checkpoint]      # callback to save the model during trainings \n",
        ")"
      ],
      "metadata": {
        "id": "qL_iPF3GYYeu",
        "colab": {
          "base_uri": "https://localhost:8080/",
          "height": 375
        },
        "outputId": "ba769b7b-24e2-42b4-8864-a651362b7c9b"
      },
      "execution_count": null,
      "outputs": [
        {
          "output_type": "error",
          "ename": "RuntimeError",
          "evalue": "ignored",
          "traceback": [
            "\u001b[0;31m---------------------------------------------------------------------------\u001b[0m",
            "\u001b[0;31mRuntimeError\u001b[0m                              Traceback (most recent call last)",
            "\u001b[0;32m<ipython-input-35-67c8fd6faf5e>\u001b[0m in \u001b[0;36m<module>\u001b[0;34m\u001b[0m\n\u001b[1;32m      1\u001b[0m \u001b[0;31m# Fitting the model 2\u001b[0m\u001b[0;34m\u001b[0m\u001b[0;34m\u001b[0m\u001b[0;34m\u001b[0m\u001b[0m\n\u001b[0;32m----> 2\u001b[0;31m history = model_2.fit(\n\u001b[0m\u001b[1;32m      3\u001b[0m   \u001b[0mtrain_images\u001b[0m\u001b[0;34m,\u001b[0m\u001b[0;34m\u001b[0m\u001b[0;34m\u001b[0m\u001b[0m\n\u001b[1;32m      4\u001b[0m   \u001b[0mtrain_labels\u001b[0m\u001b[0;34m,\u001b[0m\u001b[0;34m\u001b[0m\u001b[0;34m\u001b[0m\u001b[0m\n\u001b[1;32m      5\u001b[0m   \u001b[0mepochs\u001b[0m\u001b[0;34m=\u001b[0m\u001b[0mepochs\u001b[0m\u001b[0;34m,\u001b[0m                \u001b[0;31m# number of training epochs\u001b[0m\u001b[0;34m\u001b[0m\u001b[0;34m\u001b[0m\u001b[0m\n",
            "\u001b[0;32m/usr/local/lib/python3.8/dist-packages/keras/utils/traceback_utils.py\u001b[0m in \u001b[0;36merror_handler\u001b[0;34m(*args, **kwargs)\u001b[0m\n\u001b[1;32m     65\u001b[0m     \u001b[0;32mexcept\u001b[0m \u001b[0mException\u001b[0m \u001b[0;32mas\u001b[0m \u001b[0me\u001b[0m\u001b[0;34m:\u001b[0m  \u001b[0;31m# pylint: disable=broad-except\u001b[0m\u001b[0;34m\u001b[0m\u001b[0;34m\u001b[0m\u001b[0m\n\u001b[1;32m     66\u001b[0m       \u001b[0mfiltered_tb\u001b[0m \u001b[0;34m=\u001b[0m \u001b[0m_process_traceback_frames\u001b[0m\u001b[0;34m(\u001b[0m\u001b[0me\u001b[0m\u001b[0;34m.\u001b[0m\u001b[0m__traceback__\u001b[0m\u001b[0;34m)\u001b[0m\u001b[0;34m\u001b[0m\u001b[0;34m\u001b[0m\u001b[0m\n\u001b[0;32m---> 67\u001b[0;31m       \u001b[0;32mraise\u001b[0m \u001b[0me\u001b[0m\u001b[0;34m.\u001b[0m\u001b[0mwith_traceback\u001b[0m\u001b[0;34m(\u001b[0m\u001b[0mfiltered_tb\u001b[0m\u001b[0;34m)\u001b[0m \u001b[0;32mfrom\u001b[0m \u001b[0;32mNone\u001b[0m\u001b[0;34m\u001b[0m\u001b[0;34m\u001b[0m\u001b[0m\n\u001b[0m\u001b[1;32m     68\u001b[0m     \u001b[0;32mfinally\u001b[0m\u001b[0;34m:\u001b[0m\u001b[0;34m\u001b[0m\u001b[0;34m\u001b[0m\u001b[0m\n\u001b[1;32m     69\u001b[0m       \u001b[0;32mdel\u001b[0m \u001b[0mfiltered_tb\u001b[0m\u001b[0;34m\u001b[0m\u001b[0;34m\u001b[0m\u001b[0m\n",
            "\u001b[0;32m/usr/local/lib/python3.8/dist-packages/keras/engine/training.py\u001b[0m in \u001b[0;36m_assert_compile_was_called\u001b[0;34m(self)\u001b[0m\n\u001b[1;32m   3158\u001b[0m     \u001b[0;31m# (i.e. whether the model is built and its inputs/outputs are set).\u001b[0m\u001b[0;34m\u001b[0m\u001b[0;34m\u001b[0m\u001b[0;34m\u001b[0m\u001b[0m\n\u001b[1;32m   3159\u001b[0m     \u001b[0;32mif\u001b[0m \u001b[0;32mnot\u001b[0m \u001b[0mself\u001b[0m\u001b[0;34m.\u001b[0m\u001b[0m_is_compiled\u001b[0m\u001b[0;34m:\u001b[0m\u001b[0;34m\u001b[0m\u001b[0;34m\u001b[0m\u001b[0m\n\u001b[0;32m-> 3160\u001b[0;31m       raise RuntimeError('You must compile your model before '\n\u001b[0m\u001b[1;32m   3161\u001b[0m                          \u001b[0;34m'training/testing. '\u001b[0m\u001b[0;34m\u001b[0m\u001b[0;34m\u001b[0m\u001b[0m\n\u001b[1;32m   3162\u001b[0m                          'Use `model.compile(optimizer, loss)`.')\n",
            "\u001b[0;31mRuntimeError\u001b[0m: You must compile your model before training/testing. Use `model.compile(optimizer, loss)`."
          ]
        }
      ]
    },
    {
      "cell_type": "code",
      "source": [
        "# plot training history\n",
        "plt.figure(figsize=(8,8))\n",
        "\n",
        "# History for accuracy\n",
        "plt.subplot(211)\n",
        "plt.plot(history.history['accuracy'])\n",
        "plt.plot(history.history['val_accuracy'])\n",
        "plt.title('CNN model 2 accuracy')\n",
        "plt.ylabel('accuracy')\n",
        "plt.xlabel('epoch')\n",
        "plt.legend(['train', 'test'], loc='upper right')\n",
        "\n",
        "# History for loss\n",
        "plt.subplot(212)\n",
        "plt.plot(history.history['loss'])\n",
        "plt.plot(history.history['val_loss'])\n",
        "plt.title('model loss')\n",
        "plt.ylabel('loss')\n",
        "plt.xlabel('epoch')\n",
        "plt.legend(['train', 'test'], loc='upper left')\n",
        "plt.show()\n",
        "plt.savefig('cnn_model_1.png')"
      ],
      "metadata": {
        "id": "KrQd9P6KNIzC"
      },
      "execution_count": null,
      "outputs": []
    },
    {
      "cell_type": "markdown",
      "source": [
        "Tuning number of filters"
      ],
      "metadata": {
        "id": "jEQ7DCjrWuL7"
      }
    },
    {
      "cell_type": "code",
      "source": [
        "filter_num_list = [1,4,8,12]\n",
        "\n",
        "for num_filters in filter_num_list:\n",
        "    filter_size = 3\n",
        "    pool_size   = 2\n",
        "    num_classes = 10\n",
        "    batch_size  = 64\n",
        "    input_shape = (train_images.shape[1:]) # (28, 28, 1)\n",
        "    strides     = 1\n",
        "    padding     = 'valid' # valid: no padding, same: for zeros evenly right/left and up/down. \n",
        "                        # When padding=\"same\" and strides=1, the output has the same size as the input\n",
        "    model = Sequential()\n",
        "    model.add(Conv2D(filters = 4 * num_filters,\n",
        "                    kernel_size = filter_size,\n",
        "                    strides     = strides,\n",
        "                    input_shape = input_shape,\n",
        "                    padding     = padding,\n",
        "                    activation  = 'relu')) # Sequential model needs the input shape\n",
        "    model.add(MaxPooling2D(pool_size=pool_size)) # Keras automatically infers the shapes of inputs of later layers\n",
        "\n",
        "    model.add(Conv2D(filters = 8 * num_filters, kernel_size = (filter_size, filter_size)))\n",
        "    model.add(MaxPooling2D(pool_size=(pool_size, pool_size)))\n",
        "    #model.add(Dropout(0.25)) # randomly sets input units to 0 with a frequency of rate at each step during training time, to avoid overfitting\n",
        "    model.add(Flatten()) # Flatten serves as a connection between the convolution and dense layers\n",
        "    model.add(Dense(1600, activation='relu'))\n",
        "    model.add(Dense(num_classes, activation='softmax')) # output layer\n",
        "\n",
        "    # Compile the model\n",
        "    model.compile(\n",
        "        'adam',                             # Optimizer: Adam for gradient descent-based: https://keras.io/api/optimizers/\n",
        "        loss='categorical_crossentropy',    # Loss function: Categorical for 10 classes: https://keras.io/api/losses/\n",
        "        metrics=['accuracy'],               # accuracy metric, can choose from keras metrics: https://keras.io/api/metrics/\n",
        "        )\n",
        "    \n",
        "    # Train the mdoel\n",
        "\n",
        "    epochs = 10\n",
        "\n",
        "    # Saving the model during training to be used later\n",
        "    checkpoint = ModelCheckpoint(\"cnn_best_model.hdf5\",  # saving the best model\n",
        "                                monitor='val_loss', verbose=1,\n",
        "                                save_weights_only = False, # if True, then only the model's weights will be saved (model.save_weights(filepath)), else the full model is saved (model.save(filepath)). \n",
        "                                save_best_only=True,       # only saves when the model is considered the \"best\" and the latest best model according to the quantity monitored will not be overwritten.\n",
        "                                mode='auto',               # the decision to overwrite the current save file is made based on either the maximization or the minimization of the monitored quantity. For val_acc, this should be max, for val_loss this should be min,\n",
        "                                save_freq = 'epoch')       # When using 'epoch', the callback saves the model after each epoch. When using integer, the callback saves the model at end of this many batches.\n",
        "    \n",
        "    # Fitting the model\n",
        "    print(\"fitting model with number of filters = \", num_filters)\n",
        "    history = model.fit(\n",
        "        train_images,\n",
        "        train_labels, \n",
        "        epochs=epochs,                # number of training epochs\n",
        "        batch_size=batch_size,\n",
        "        verbose = 1,\n",
        "        validation_data=(test_images, test_labels), # validation data\n",
        "        callbacks=[checkpoint]      # callback to save the model during trainings \n",
        "    )\n"
      ],
      "metadata": {
        "id": "0NymatRQRKQQ"
      },
      "execution_count": null,
      "outputs": []
    },
    {
      "cell_type": "code",
      "source": [
        "\n",
        "acc_list = [0.9335, 0.9426, 0.9493, 0.9423]\n",
        "\n",
        "filter_num_list = [1,4,8,12]\n",
        "\n",
        "\n",
        "x = np.array([10,20,30,40,50])\n",
        "bar=4\n",
        "\n",
        "# plot the training results\n",
        "plt.bar(filter_num_list, acc_list)\n",
        "\n"
      ],
      "metadata": {
        "id": "CD4OYKZ2ZNVq",
        "colab": {
          "base_uri": "https://localhost:8080/",
          "height": 278
        },
        "outputId": "845ab17a-336d-4b33-c352-aa49f0d11b2d"
      },
      "execution_count": null,
      "outputs": [
        {
          "output_type": "execute_result",
          "data": {
            "text/plain": [
              "<BarContainer object of 4 artists>"
            ]
          },
          "metadata": {},
          "execution_count": 49
        },
        {
          "output_type": "display_data",
          "data": {
            "text/plain": [
              "<Figure size 504x252 with 1 Axes>"
            ],
            "image/png": "[encoded data removed]"
          },
          "metadata": {
            "needs_background": "light"
          }
        }
      ]
    },
    {
      "cell_type": "code",
      "source": [
        "\n",
        "train_images.shape\n",
        "train_x = train_images[10,]\n",
        "train_x.shape"
      ],
      "metadata": {
        "colab": {
          "base_uri": "https://localhost:8080/"
        },
        "id": "oCOaVN4gr6dU",
        "outputId": "737a818e-e97b-47bb-b418-586c50d168a9"
      },
      "execution_count": null,
      "outputs": [
        {
          "output_type": "execute_result",
          "data": {
            "text/plain": [
              "(28, 28)"
            ]
          },
          "metadata": {},
          "execution_count": 72
        }
      ]
    },
    {
      "cell_type": "code",
      "source": [
        "train_size_list = [1,10,100,1000,10000]\n",
        "\n",
        "\n",
        "for train_size in train_size_list:\n",
        "    train_x = train_images[train_size,:]\n",
        "    train_y = train_labels[train_size]\n",
        "\n",
        "    # Reshape the images.\n",
        "    train_images = np.expand_dims(train_x, axis=3)\n",
        "    test_images = np.expand_dims(test_images, axis=3)\n",
        "\n",
        "    train_labels = to_categorical(train_labels)\n",
        "    test_labels = to_categorical(test_labels)\n",
        "\n",
        "    filter_size = 8\n",
        "    pool_size   = 2\n",
        "    num_classes = 10\n",
        "    batch_size  = 64\n",
        "    input_shape = (train_images.shape[1:]) # (28, 28, 1)\n",
        "    strides     = 1\n",
        "    padding     = 'valid' # valid: no padding, same: for zeros evenly right/left and up/down. \n",
        "                        # When padding=\"same\" and strides=1, the output has the same size as the input\n",
        "    model = Sequential()\n",
        "    model.add(Conv2D(filters = 4 * num_filters,\n",
        "                    kernel_size = filter_size,\n",
        "                    strides     = strides,\n",
        "                    input_shape = input_shape,\n",
        "                    padding     = padding,\n",
        "                    activation  = 'relu')) # Sequential model needs the input shape\n",
        "    model.add(MaxPooling2D(pool_size=pool_size)) # Keras automatically infers the shapes of inputs of later layers\n",
        "\n",
        "    model.add(Conv2D(filters = 8 * num_filters, kernel_size = (filter_size, filter_size)))\n",
        "    model.add(MaxPooling2D(pool_size=(pool_size, pool_size)))\n",
        "    #model.add(Dropout(0.25)) # randomly sets input units to 0 with a frequency of rate at each step during training time, to avoid overfitting\n",
        "    model.add(Flatten()) # Flatten serves as a connection between the convolution and dense layers\n",
        "    model.add(Dense(1600, activation='relu'))\n",
        "    model.add(Dense(num_classes, activation='softmax')) # output layer\n",
        "\n",
        "    # Compile the model\n",
        "    model.compile(\n",
        "        'adam',                             # Optimizer: Adam for gradient descent-based: https://keras.io/api/optimizers/\n",
        "        loss='categorical_crossentropy',    # Loss function: Categorical for 10 classes: https://keras.io/api/losses/\n",
        "        metrics=['accuracy'],               # accuracy metric, can choose from keras metrics: https://keras.io/api/metrics/\n",
        "        )\n",
        "    \n",
        "    # Train the mdoel\n",
        "\n",
        "    epochs = 10\n",
        "\n",
        "    # Saving the model during training to be used later\n",
        "    checkpoint = ModelCheckpoint(\"cnn_best_model.hdf5\",  # saving the best model\n",
        "                                monitor='val_loss', verbose=1,\n",
        "                                save_weights_only = False, # if True, then only the model's weights will be saved (model.save_weights(filepath)), else the full model is saved (model.save(filepath)). \n",
        "                                save_best_only=True,       # only saves when the model is considered the \"best\" and the latest best model according to the quantity monitored will not be overwritten.\n",
        "                                mode='auto',               # the decision to overwrite the current save file is made based on either the maximization or the minimization of the monitored quantity. For val_acc, this should be max, for val_loss this should be min,\n",
        "                                save_freq = 'epoch')       # When using 'epoch', the callback saves the model after each epoch. When using integer, the callback saves the model at end of this many batches.\n",
        "    \n",
        "    # Fitting the model\n",
        "    print(\"fitting model with train size = \", train_size)\n",
        "    history = model.fit(\n",
        "        train_x,\n",
        "        train_y, \n",
        "        epochs=epochs,                # number of training epochs\n",
        "        batch_size=batch_size,\n",
        "        verbose = 1,\n",
        "        validation_data=(test_images, test_labels), # validation data\n",
        "        callbacks=[checkpoint]      # callback to save the model during trainings \n",
        "    )\n",
        "\n",
        "\n",
        "\n",
        "#     # Ploting the accuracy vs. training dataset size\n",
        "# n=X_train.shape[0]\n",
        "# size = [1,10,100,1000,10000]\n",
        "# accuracy_test = []\n",
        "\n",
        "# # loop over fractions\n",
        "# for s in size:\n",
        "#     np.random.seed(500)\n",
        "#     nn = MLP((784, 128, 128, 10), (Relu, Relu, softmax))\n",
        "#     _, test_log = nn.fit(X_train[:s], Y_train[:s], X_test, Y_test, epochs=1500, batch_size=256, loss=Cross_Entropy,lambd = 0, learning_rate=0.1, plot=False)\n",
        "#     accuracy_test.append(test_log)\n",
        "\n",
        "# x = np.array([10,20,30,40,50])\n",
        "# bar=5\n",
        "\n",
        "# # plot the training results\n",
        "# plt.bar(x, accuracy_test, color ='royalblue', width = bar,\n",
        "#         edgecolor ='black', label='MLP')\n",
        "\n",
        "\n",
        "# plt.xlabel('Number of Training Images Used')\n",
        "# plt.xticks(x,[1,10,100,1000,10000])\n",
        "# plt.ylabel('Accuracy')\n",
        "# plt.title(\"Accuracy of Varying Training Set Size\")\n",
        "# plt.legend()\n",
        "# plt.grid()\n",
        "# plt.figure()\n"
      ],
      "metadata": {
        "id": "8KJSrROWio9p",
        "colab": {
          "base_uri": "https://localhost:8080/",
          "height": 443
        },
        "outputId": "1244d87e-199b-4234-a6a8-61a1ef236efe"
      },
      "execution_count": null,
      "outputs": [
        {
          "output_type": "stream",
          "name": "stdout",
          "text": [
            "fitting model with train size =  1\n"
          ]
        },
        {
          "output_type": "error",
          "ename": "ValueError",
          "evalue": "ignored",
          "traceback": [
            "\u001b[0;31m---------------------------------------------------------------------------\u001b[0m",
            "\u001b[0;31mValueError\u001b[0m                                Traceback (most recent call last)",
            "\u001b[0;32m<ipython-input-51-fc1655f9583f>\u001b[0m in \u001b[0;36m<module>\u001b[0;34m\u001b[0m\n\u001b[1;32m     50\u001b[0m     \u001b[0;31m# Fitting the model\u001b[0m\u001b[0;34m\u001b[0m\u001b[0;34m\u001b[0m\u001b[0;34m\u001b[0m\u001b[0m\n\u001b[1;32m     51\u001b[0m     \u001b[0mprint\u001b[0m\u001b[0;34m(\u001b[0m\u001b[0;34m\"fitting model with train size = \"\u001b[0m\u001b[0;34m,\u001b[0m \u001b[0mtrain_size\u001b[0m\u001b[0;34m)\u001b[0m\u001b[0;34m\u001b[0m\u001b[0;34m\u001b[0m\u001b[0m\n\u001b[0;32m---> 52\u001b[0;31m     history = model.fit(\n\u001b[0m\u001b[1;32m     53\u001b[0m         \u001b[0mtrain_x\u001b[0m\u001b[0;34m,\u001b[0m\u001b[0;34m\u001b[0m\u001b[0;34m\u001b[0m\u001b[0m\n\u001b[1;32m     54\u001b[0m         \u001b[0mtrain_y\u001b[0m\u001b[0;34m,\u001b[0m\u001b[0;34m\u001b[0m\u001b[0;34m\u001b[0m\u001b[0m\n",
            "\u001b[0;32m/usr/local/lib/python3.8/dist-packages/keras/utils/traceback_utils.py\u001b[0m in \u001b[0;36merror_handler\u001b[0;34m(*args, **kwargs)\u001b[0m\n\u001b[1;32m     65\u001b[0m     \u001b[0;32mexcept\u001b[0m \u001b[0mException\u001b[0m \u001b[0;32mas\u001b[0m \u001b[0me\u001b[0m\u001b[0;34m:\u001b[0m  \u001b[0;31m# pylint: disable=broad-except\u001b[0m\u001b[0;34m\u001b[0m\u001b[0;34m\u001b[0m\u001b[0m\n\u001b[1;32m     66\u001b[0m       \u001b[0mfiltered_tb\u001b[0m \u001b[0;34m=\u001b[0m \u001b[0m_process_traceback_frames\u001b[0m\u001b[0;34m(\u001b[0m\u001b[0me\u001b[0m\u001b[0;34m.\u001b[0m\u001b[0m__traceback__\u001b[0m\u001b[0;34m)\u001b[0m\u001b[0;34m\u001b[0m\u001b[0;34m\u001b[0m\u001b[0m\n\u001b[0;32m---> 67\u001b[0;31m       \u001b[0;32mraise\u001b[0m \u001b[0me\u001b[0m\u001b[0;34m.\u001b[0m\u001b[0mwith_traceback\u001b[0m\u001b[0;34m(\u001b[0m\u001b[0mfiltered_tb\u001b[0m\u001b[0;34m)\u001b[0m \u001b[0;32mfrom\u001b[0m \u001b[0;32mNone\u001b[0m\u001b[0;34m\u001b[0m\u001b[0;34m\u001b[0m\u001b[0m\n\u001b[0m\u001b[1;32m     68\u001b[0m     \u001b[0;32mfinally\u001b[0m\u001b[0;34m:\u001b[0m\u001b[0;34m\u001b[0m\u001b[0;34m\u001b[0m\u001b[0m\n\u001b[1;32m     69\u001b[0m       \u001b[0;32mdel\u001b[0m \u001b[0mfiltered_tb\u001b[0m\u001b[0;34m\u001b[0m\u001b[0;34m\u001b[0m\u001b[0m\n",
            "\u001b[0;32m/usr/local/lib/python3.8/dist-packages/keras/engine/data_adapter.py\u001b[0m in \u001b[0;36m_check_data_cardinality\u001b[0;34m(data)\u001b[0m\n\u001b[1;32m   1653\u001b[0m                            for i in tf.nest.flatten(single_data)))\n\u001b[1;32m   1654\u001b[0m     \u001b[0mmsg\u001b[0m \u001b[0;34m+=\u001b[0m \u001b[0;34m\"Make sure all arrays contain the same number of samples.\"\u001b[0m\u001b[0;34m\u001b[0m\u001b[0;34m\u001b[0m\u001b[0m\n\u001b[0;32m-> 1655\u001b[0;31m     \u001b[0;32mraise\u001b[0m \u001b[0mValueError\u001b[0m\u001b[0;34m(\u001b[0m\u001b[0mmsg\u001b[0m\u001b[0;34m)\u001b[0m\u001b[0;34m\u001b[0m\u001b[0;34m\u001b[0m\u001b[0m\n\u001b[0m\u001b[1;32m   1656\u001b[0m \u001b[0;34m\u001b[0m\u001b[0m\n\u001b[1;32m   1657\u001b[0m \u001b[0;34m\u001b[0m\u001b[0m\n",
            "\u001b[0;31mValueError\u001b[0m: Data cardinality is ambiguous:\n  x sizes: 28\n  y sizes: 10\nMake sure all arrays contain the same number of samples."
          ]
        }
      ]
    },
    {
      "cell_type": "markdown",
      "metadata": {
        "id": "YBHxy2Bfa0WC"
      },
      "source": [
        "# Additional EXP"
      ]
    },
    {
      "cell_type": "markdown",
      "metadata": {
        "id": "ymw-vvGJkNCa"
      },
      "source": [
        "## Varying Units All"
      ]
    },
    {
      "cell_type": "code",
      "execution_count": null,
      "metadata": {
        "id": "S5SZi3IRkYjW",
        "colab": {
          "base_uri": "https://localhost:8080/",
          "height": 1000
        },
        "outputId": "dfa4c6da-5dff-455c-e0a4-d4ba0e0043d0"
      },
      "outputs": [
        {
          "output_type": "stream",
          "name": "stderr",
          "text": [
            "100%|██████████| 1/1 [00:00<00:00, 68.10it/s]\n"
          ]
        },
        {
          "output_type": "stream",
          "name": "stdout",
          "text": [
            "train acc 0.15148333333333333\n",
            "test acc 0.1539\n"
          ]
        },
        {
          "output_type": "stream",
          "name": "stderr",
          "text": [
            "100%|██████████| 1/1 [00:00<00:00, 49.30it/s]\n"
          ]
        },
        {
          "output_type": "stream",
          "name": "stdout",
          "text": [
            "train acc 0.22228333333333333\n",
            "test acc 0.2215\n"
          ]
        },
        {
          "output_type": "stream",
          "name": "stderr",
          "text": [
            "100%|██████████| 1/1 [00:00<00:00, 70.46it/s]\n"
          ]
        },
        {
          "output_type": "stream",
          "name": "stdout",
          "text": [
            "train acc 0.11101666666666667\n",
            "test acc 0.1183\n"
          ]
        },
        {
          "output_type": "stream",
          "name": "stderr",
          "text": [
            "100%|██████████| 1/1 [00:00<00:00, 77.91it/s]\n"
          ]
        },
        {
          "output_type": "stream",
          "name": "stdout",
          "text": [
            "train acc 0.11716666666666667\n",
            "test acc 0.1167\n"
          ]
        },
        {
          "output_type": "stream",
          "name": "stderr",
          "text": [
            "100%|██████████| 1/1 [00:00<00:00, 34.99it/s]\n"
          ]
        },
        {
          "output_type": "stream",
          "name": "stdout",
          "text": [
            "train acc 0.15526666666666666\n",
            "test acc 0.1548\n"
          ]
        },
        {
          "output_type": "stream",
          "name": "stderr",
          "text": [
            "100%|██████████| 1/1 [00:00<00:00, 48.90it/s]\n"
          ]
        },
        {
          "output_type": "stream",
          "name": "stdout",
          "text": [
            "train acc 0.18421666666666667\n",
            "test acc 0.1853\n"
          ]
        },
        {
          "output_type": "stream",
          "name": "stderr",
          "text": [
            "100%|██████████| 1/1 [00:00<00:00, 33.49it/s]\n"
          ]
        },
        {
          "output_type": "stream",
          "name": "stdout",
          "text": [
            "train acc 0.1\n",
            "test acc 0.1\n"
          ]
        },
        {
          "output_type": "stream",
          "name": "stderr",
          "text": [
            "100%|██████████| 1/1 [00:00<00:00, 16.44it/s]\n"
          ]
        },
        {
          "output_type": "stream",
          "name": "stdout",
          "text": [
            "train acc 0.1\n",
            "test acc 0.1\n"
          ]
        },
        {
          "output_type": "stream",
          "name": "stderr",
          "text": [
            "100%|██████████| 1/1 [00:00<00:00, 34.40it/s]\n"
          ]
        },
        {
          "output_type": "stream",
          "name": "stdout",
          "text": [
            "train acc 0.18576666666666666\n",
            "test acc 0.1781\n"
          ]
        },
        {
          "output_type": "stream",
          "name": "stderr",
          "text": [
            "100%|██████████| 1/1 [00:00<00:00, 15.62it/s]\n"
          ]
        },
        {
          "output_type": "stream",
          "name": "stdout",
          "text": [
            "train acc 0.13985\n",
            "test acc 0.1424\n"
          ]
        },
        {
          "output_type": "stream",
          "name": "stderr",
          "text": [
            "100%|██████████| 1/1 [00:00<00:00,  6.17it/s]\n"
          ]
        },
        {
          "output_type": "stream",
          "name": "stdout",
          "text": [
            "train acc 0.16975\n",
            "test acc 0.1689\n"
          ]
        },
        {
          "output_type": "stream",
          "name": "stderr",
          "text": [
            "100%|██████████| 1/1 [00:00<00:00, 16.83it/s]\n"
          ]
        },
        {
          "output_type": "stream",
          "name": "stdout",
          "text": [
            "train acc 0.1\n",
            "test acc 0.1\n"
          ]
        },
        {
          "output_type": "display_data",
          "data": {
            "text/plain": [
              "<Figure size 720x504 with 1 Axes>"
            ],
            "image/png": "[encoded data removed]"
          },
          "metadata": {
            "needs_background": "light"
          }
        }
      ],
      "source": [
        "fig = plt.subplots(figsize =(10, 7))\n",
        "\n",
        "units = [64, 128, 256, 512]\n",
        "\n",
        "acc1 = []\n",
        "acc2 = []\n",
        "acc3 = []\n",
        "\n",
        "for u in units:\n",
        "    nn1 = MLP((784, u, u, 10), (Relu, Relu, softmax))\n",
        "    _, test_acc_relu = nn1.fit(X_train, Y_train, X_test, Y_test, epochs=1, batch_size=256, loss=Cross_Entropy,lambd = 0, learning_rate=0.1, plot=True)\n",
        "    acc1.append(test_acc_relu)\n",
        "    \n",
        "    nn2 = MLP((784, u, u, 10), (tanh, tanh, softmax))\n",
        "    _, test_acc_tanh = nn2.fit(X_train, Y_train, X_test, Y_test, epochs=1, batch_size=256, loss=Cross_Entropy,lambd = 0, learning_rate=0.1, plot=True)\n",
        "    acc2.append(test_acc_tanh)\n",
        "\n",
        "    nn3 = MLP((784, u, u, 10), (leakyRelu, leakyRelu, softmax))\n",
        "    _, test_acc_leaky = nn3.fit(X_train, Y_train, X_test, Y_test, epochs=1, batch_size=256, loss=Cross_Entropy,lambd = 0, learning_rate=0.1, plot=True)\n",
        "    acc3.append(test_acc_leaky)\n",
        "\n",
        "bar = 5\n",
        "x = np.array([100,200,300,400])\n",
        "\n",
        "plt.bar(x, acc1, color ='lightcoral', width = bar,\n",
        "        edgecolor ='black', label ='relu')\n",
        "\n",
        "plt.bar(x+bar, acc2, color ='yellowgreen', width = bar,\n",
        "        edgecolor ='black', label ='tanh')\n",
        "\n",
        "plt.bar(x+2*bar, acc3, color ='royalblue', width = bar,\n",
        "        edgecolor ='black', label ='leaky-relu')\n",
        "\n",
        "\n",
        "plt.title(\"investigation on effect of width using different activations\")\n",
        "plt.ylabel(\"accuracy\")\n",
        "plt.xticks(x,\n",
        "        [64, 128, 256, 512])\n",
        "plt.legend()\n",
        "plt.xlabel(\"width\")\n",
        "plt.show()\n",
        "\n",
        "    "
      ]
    },
    {
      "cell_type": "markdown",
      "metadata": {
        "id": "T-CHPnFEUcQN"
      },
      "source": [
        "## Varying number of images (with 2 hidden layers, 128 units, ReLU)"
      ]
    },
    {
      "cell_type": "code",
      "execution_count": null,
      "metadata": {
        "id": "8wqrFdk_UlUl",
        "colab": {
          "base_uri": "https://localhost:8080/",
          "height": 599
        },
        "outputId": "8e8e8be1-ef91-4b19-82ed-a92c2b7b7880"
      },
      "outputs": [
        {
          "output_type": "stream",
          "name": "stderr",
          "text": [
            "100%|██████████| 10/10 [00:00<00:00, 91.64it/s]\n"
          ]
        },
        {
          "output_type": "stream",
          "name": "stdout",
          "text": [
            "train acc 1.0\n",
            "test acc 1.0\n"
          ]
        },
        {
          "output_type": "stream",
          "name": "stderr",
          "text": [
            "100%|██████████| 10/10 [00:00<00:00, 94.02it/s]\n"
          ]
        },
        {
          "output_type": "stream",
          "name": "stdout",
          "text": [
            "train acc 0.9\n",
            "test acc 0.3\n"
          ]
        },
        {
          "output_type": "stream",
          "name": "stderr",
          "text": [
            "100%|██████████| 10/10 [00:00<00:00, 80.18it/s]\n"
          ]
        },
        {
          "output_type": "stream",
          "name": "stdout",
          "text": [
            "train acc 0.55\n",
            "test acc 0.42\n"
          ]
        },
        {
          "output_type": "stream",
          "name": "stderr",
          "text": [
            "100%|██████████| 10/10 [00:00<00:00, 68.99it/s]\n"
          ]
        },
        {
          "output_type": "stream",
          "name": "stdout",
          "text": [
            "train acc 0.658\n",
            "test acc 0.621\n"
          ]
        },
        {
          "output_type": "stream",
          "name": "stderr",
          "text": [
            "100%|██████████| 10/10 [00:00<00:00, 72.92it/s]\n"
          ]
        },
        {
          "output_type": "stream",
          "name": "stdout",
          "text": [
            "train acc 0.5006\n",
            "test acc 0.5003\n"
          ]
        },
        {
          "output_type": "execute_result",
          "data": {
            "text/plain": [
              "<Figure size 432x288 with 0 Axes>"
            ]
          },
          "metadata": {},
          "execution_count": 57
        },
        {
          "output_type": "display_data",
          "data": {
            "text/plain": [
              "<Figure size 432x288 with 1 Axes>"
            ],
            "image/png": "[encoded data removed]"
          },
          "metadata": {
            "needs_background": "light"
          }
        },
        {
          "output_type": "display_data",
          "data": {
            "text/plain": [
              "<Figure size 432x288 with 0 Axes>"
            ]
          },
          "metadata": {}
        }
      ],
      "source": [
        "# Ploting the accuracy vs. training dataset size\n",
        "n=X_train.shape[0]\n",
        "size = [1,10,100,1000,10000]\n",
        "accuracy_test = []\n",
        "\n",
        "# loop over fractions\n",
        "for s in size:\n",
        "    np.random.seed(500)\n",
        "    nn = MLP((784, 128, 128, 10), (Relu, Relu, softmax))\n",
        "    _, test_log = nn.fit(X_train[:s], Y_train[:s], X_test, Y_test, epochs=1500, batch_size=256, loss=Cross_Entropy,lambd = 0, learning_rate=0.1, plot=False)\n",
        "    accuracy_test.append(test_log)\n",
        "\n",
        "x = np.array([10,20,30,40,50])\n",
        "bar=5\n",
        "\n",
        "# plot the training results\n",
        "plt.bar(x, accuracy_test, color ='royalblue', width = bar,\n",
        "        edgecolor ='black', label='MLP')\n",
        "\n",
        "\n",
        "plt.xlabel('Number of Training Images Used')\n",
        "plt.xticks(x,[1,10,100,1000,10000])\n",
        "plt.ylabel('Accuracy')\n",
        "plt.title(\"Accuracy of Varying Training Set Size\")\n",
        "plt.legend()\n",
        "plt.grid()\n",
        "plt.figure()\n"
      ]
    },
    {
      "cell_type": "markdown",
      "source": [
        "## More on Depth"
      ],
      "metadata": {
        "id": "SWIZAWaXmc-N"
      }
    },
    {
      "cell_type": "code",
      "source": [
        "\n",
        "e = 2000\n",
        "\n",
        "nn0 = MLP((784, 10), (softmax,))\n",
        "_, test_acc_relu0 = nn0.fit(X_train, Y_train, X_test, Y_test, epochs=e, batch_size=256, loss=Cross_Entropy,lambd = 0, learning_rate=0.1, plot=True)\n",
        "\n",
        "nn1 = MLP((784, 128, 10), (Relu, softmax))\n",
        "_, test_acc_relu1 = nn1.fit(X_train, Y_train, X_test, Y_test, epochs=e, batch_size=256, loss=Cross_Entropy,lambd = 0, learning_rate=0.1, plot=True)\n",
        "\n",
        "nn2 = MLP((784, 128, 128, 10), (Relu, Relu, softmax))\n",
        "_, test_acc_relu2 = nn2.fit(X_train, Y_train, X_test, Y_test, epochs=e, batch_size=256, loss=Cross_Entropy,lambd = 0, learning_rate=0.1, plot=True)\n",
        "\n",
        "nn3 = MLP((784, 128, 128, 128, 10), (Relu, Relu, Relu, softmax))\n",
        "_, test_acc_relu3 = nn3.fit(X_train, Y_train, X_test, Y_test, epochs=e, batch_size=256, loss=Cross_Entropy,lambd = 0, learning_rate=0.1, plot=True)\n",
        "\n",
        "nn4 = MLP((784, 128, 128, 128, 128, 10), (Relu, Relu, Relu, Relu, softmax))\n",
        "_, test_acc_relu4 = nn4.fit(X_train, Y_train, X_test, Y_test, epochs=e, batch_size=256, loss=Cross_Entropy,lambd = 0, learning_rate=0.1, plot=True)\n",
        "\n",
        "nn5 = MLP((784, 128, 128, 128, 128, 128, 10), (Relu, Relu, Relu, Relu, Relu, softmax))\n",
        "_, test_acc_relu5 = nn5.fit(X_train, Y_train, X_test, Y_test, epochs=e, batch_size=256, loss=Cross_Entropy,lambd = 0, learning_rate=0.1, plot=True)\n",
        "\n",
        "nn6 = MLP((784, 128, 128, 128, 128, 128, 128, 10), (Relu, Relu, Relu, Relu, Relu, Relu, softmax))\n",
        "_, test_acc_relu6 = nn5.fit(X_train, Y_train, X_test, Y_test, epochs=e, batch_size=256, loss=Cross_Entropy,lambd = 0, learning_rate=0.1, plot=True)\n",
        "\n",
        "\n",
        "bar = 3\n",
        "x = [10,20,30,40,50,60,70]\n",
        "\n",
        "plt.bar(x, [test_acc_relu0,test_acc_relu1,test_acc_relu2,test_acc_relu3,test_acc_relu4,test_acc_relu5,test_acc_relu6], \n",
        "        color ='royalblue', width = bar,\n",
        "        edgecolor ='black', label='MLP')\n",
        "\n",
        "plt.xlabel('Number of hidden layers')\n",
        "plt.xticks(x,[0,1,2,3,4,5,6])\n",
        "plt.ylabel('Accuracy')\n",
        "plt.title(\"Accuracy of Varying Hidden layers\")\n",
        "# plt.legend()\n",
        "# plt.grid()\n",
        "plt.figure()"
      ],
      "metadata": {
        "id": "ccoAaa2GmgzI"
      },
      "execution_count": null,
      "outputs": []
    },
    {
      "cell_type": "markdown",
      "source": [
        "##check gradint"
      ],
      "metadata": {
        "id": "lVUI5tAQvLQL"
      }
    },
    {
      "cell_type": "code",
      "source": [
        "mlp = MLP((784, 128, 128, 10), (Relu, Relu, softmax))\n",
        "'''\n",
        "(784, 128)\n",
        "(128, 128)\n",
        "(128, 10)\n",
        "'''\n",
        "mlp.check(X_train, Y_train)\n",
        "\n"
      ],
      "metadata": {
        "id": "UMBeD1cuvKlc"
      },
      "execution_count": null,
      "outputs": []
    }
  ],
  "metadata": {
    "colab": {
      "collapsed_sections": [
        "PJkWVECOuvhJ",
        "m2D_qgSRqz1J",
        "wBVyqggc9M8Q",
        "z73UKS2L9qjW",
        "SWMqe3f397ZG",
        "DPUrMECSTA76",
        "ymw-vvGJkNCa",
        "T-CHPnFEUcQN",
        "lVUI5tAQvLQL"
      ],
      "provenance": []
    },
    "kernelspec": {
      "display_name": "Python 3 (ipykernel)",
      "language": "python",
      "name": "python3"
    },
    "language_info": {
      "codemirror_mode": {
        "name": "ipython",
        "version": 3
      },
      "file_extension": ".py",
      "mimetype": "text/x-python",
      "name": "python",
      "nbconvert_exporter": "python",
      "pygments_lexer": "ipython3",
      "version": "3.9.7"
    }
  },
  "nbformat": 4,
  "nbformat_minor": 0
}